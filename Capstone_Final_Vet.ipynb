{
 "cells": [
  {
   "cell_type": "markdown",
   "metadata": {},
   "source": [
    "# ANALYSIS AND SELECTION OF A PLACE IN WHERE WE WANT TO ESTABLISH A VETERINARIAN CLINIC"
   ]
  },
  {
   "cell_type": "markdown",
   "metadata": {},
   "source": [
    "## Description of the problem"
   ]
  },
  {
   "cell_type": "markdown",
   "metadata": {},
   "source": [
    "Veterinarians in Mexico are having several problems to maintain their clinics open. The reasons are: First, the Government rules are imposed without any notice, and the inspectors are closing clinics based on rules the owners of the clinics weren't aware of. Secondly, Mexican economy is going down pretty fast, and it is worst now that COVID19 is enduring in the country, therefore, the clients are not attending to the clinics anymore. That is forcing the owners to close their clinics. And lastly: Crime is gaining force in Mexican streets. The clinics owners, clients and workers are in danger all the time.\n",
    "\n",
    "This proposal is the study we are offering to a group of veterinaries that want to establish a clinic in either New York City, USA or Toronto, Canada.\n",
    "\n",
    "Talking to the veterinarians group we defined the bases of the analysis:\n",
    "1. We focus only in two places of the interest of all the veterinarians in the group: New York City, New York, United States of America and Toronto, Ontario, Canada. We have to define the best place to locate the new clinic in one of the borroughs for one of the cities15 most Friendly Neighborhoods in Toronto 201.\n",
    "2. We are looking for a Pet friendly area, because the pet owners are more interested in the health of the pets and they will attend to the clinics more often.\n",
    "3. We will focus on dogs, because in New York City is known that 73% of the pets are dogs and 27% are cats, meanwhile in Toronto, the pets are 52% dogs and the cats are 48%.\n",
    "4. The clinic must be set in an area in where there are not many clinics, to avoid the competitors. We need to be careful to identify areas in where industrial parks are not located there, because those are areas in where there are not to many persons living there.\n",
    "5. We are looking for areas in where the amount of dogs is bigger.\n",
    "6. We also are looking for areas in where the amount of breeds in risk to be sick is big, therefore, they will require more medical attendance\n",
    "\n",
    "We performed a revision of information of both sites and we obtained enough information to support this study, that is reported in the next section."
   ]
  },
  {
   "cell_type": "markdown",
   "metadata": {},
   "source": [
    "## Data to be used in the project"
   ]
  },
  {
   "cell_type": "markdown",
   "metadata": {},
   "source": [
    "# **Identification of the Pet Friendly Neighborhoods.**(4, 5, 6, 7) It will help us to delimit some boroughs and neighborhoods to locate the possible areas where the veterinarians could establish their clinic.\n",
    "\n",
    "For Toronto, we obtained the following dog-friendly Neighborhoods: Sunnybrook, Church and Wellesley, Riverdale, High Park, The Beaches, The Mt Pleasant, The Harbourfront, Leslieville, Trinity, The Lakeshore, Kensington Market, DonMills and Shepard, Rosedale, Distillery District, Roncesvalles, Trinity Bellwoods, Liberty Village, Lambton.\n",
    "\n",
    "For New York City, we obtained the following dog.friendly Neighborhoods by Borough: Manhattan(Battery Park City, Tribeca, Financial District, Roosevelt Island, Soho), Brooklyn (DUMBO, Columbia St/Waterfront District, Downtown Brooklyn, Seagate, Brooklin Heights), Queens (Alley Park, Corona, New Hyde Park, Whitestone, Long Island City), Bronx (Riverdale, Hunts Point, Kingsbridge, Bedford Park), Staten Island (Silver Lake, New Brighton, Pleasant Plains, Sunnyside, Princess Bay)\n",
    "\n",
    "**Databases containing the distribution for dog breeds per postal code.** (8, 9) It will help us to identify the amount of dogs and the main breeds in the areas. That will help us to define the veterinarians demand in the neighbourhoods and boroughs because of number of pets as well as number of in risk to get sick pets. As the cats are not mirochiped, we don't have enough information to consider aboutcats. \n",
    "\n",
    "As cats are not microchipped in New York, we do not have enough information to compare the cats as well. On the other hand, the Canadian Animal Health Institute (1) reported that there were 8.2 million dogs and 8.3 million cats in Canada and Zeveloff (2) andMuscavage(3) reports 600,000 dogs and 500,000 cats in New York City. Therefore, we are going to focus on the dogs official registry databases:\n",
    "Toronto:111116_TO_dogs.csv\n",
    "Yew York City:NYC_Dog_Licensing_Dataset.csv\n",
    "\n",
    "**API FOURSQUARE databases.**(10) To identify the veterinarian clinics in the area of Toronto and New York and remove those that contain a big amount of veterinarian clinics because they could be competitors.\n",
    "\n",
    "**Most Unhealthy dog breeds** According to Moore(11) the breeds more prone to be sick are: Chihuahua, Shar Pei, Saint Bernard, Rottweiler, Pug, Standard Poodle, Doberman Pinscher, German Shepherd, Labrador Retriever, Golden Retriever, Newfoulndland, English Bulldogs, Basset Hound, Irish Setter, Beagle, Siberian Husky, Shih Tzu, Boxer, Dachshund, Cocker Spaniel, Yorkshire Terrier, Miniature Schnauzer, Pomeranian, German Shorthand Pointer, Great Dane, Shetland Sheepdog, Maltese, Boston Terrier, Cavalier King Spaniel"
   ]
  },
  {
   "cell_type": "markdown",
   "metadata": {},
   "source": [
    "# References\n",
    "\n",
    "1. Canadian Animal Health Institute (2019). Latest  Canadian Pet Population Figures Released. Retrieved from https://www.cahi-icsa.ca/press-releases/latest-canadian-pet-population-figures-released at Aprin 22nd, 2020\n",
    "2. Zeveloff, J. (2012), Here's Where to Find The 600,000 Dogs That Live in New York City. Business Insider. Retrieved form https://www.businessinsider.com/heres-where-to-find-the-600000-dogs-that-live-in-new-york-city-2012-2?=MX&1R=T at April 22nd, 2020\n",
    "2. Muscavage, N. (2015). More NYers own dogs than cats. PressConnects. Retrieved from https://www.pressconnects.com/story/news/politics/2015/10/19/residents-dogs-cats/74213156 at April 22nd, 2020\n",
    "3. Krneta, A. (2018). 15 Most Dog Friendly Neighborhoods in Toronto 2019. TorontoRentals Blog. Neighborhoods. Retrieved from https://www.torontorentals.com/blog/most-dog-friendly-neighborhoods-in-toronto at April 21st, 2020\n",
    "4. NA. (2019). Best Dog-Friendly Neighbourhoods in Toronto. The BREL team. Retrieved from https://wwww.getwhatyouwant.ca/toronto-neighbourhoods-toronto at April 21st, 2020\n",
    "5. Roberts, C. (2017). NYC's Most-Dog_Freindly_Neighborhoods. Trends & Data. Neighborhood. Retrieved from https://streeteasy.com/blog/nycs-most-dog-friendly-neighborhoods at April 21st, 2020\n",
    "6. BrickUnderground. (2019). 8 of the best NYC neighborhoods for dogs. Retrieved from https://www.brickunderground.com/blog/2015/10/best_nyc_neighborhoods_for_dogs at April 21st, 2020 \n",
    "7. Global News (2011). Toronto dogs license database. Retrieved from https:// globalnews.ca/news/178486/toronto-dogs-download-the-data/ at April 22nd, 2020\n",
    "8. The City of New York. (2020). NYC Dog Licensing Dataset. NYC Open Data. Retrieved  from https://data.cityofnewyork.us/Health/NYC-Dog-Licensing_Dataset/nu7n-tupb at April 21sr, 2020\n",
    "9. FOURSQUARE. (2020). The Trusted location Data & Intelligence Company. Retrieved from https://foursquare.com\n",
    "10. Moore, C. (NA). 25 Most Unhealthy Dog Breeds. Retrieved from https://housely.com/unhealthy-dog-breeds at April 23rd, 2020"
   ]
  },
  {
   "cell_type": "code",
   "execution_count": null,
   "metadata": {},
   "outputs": [],
   "source": []
  }
 ],
 "metadata": {
  "kernelspec": {
   "display_name": "Python 3",
   "language": "python",
   "name": "python3"
  },
  "language_info": {
   "codemirror_mode": {
    "name": "ipython",
    "version": 3
   },
   "file_extension": ".py",
   "mimetype": "text/x-python",
   "name": "python",
   "nbconvert_exporter": "python",
   "pygments_lexer": "ipython3",
   "version": "3.7.6"
  }
 },
 "nbformat": 4,
 "nbformat_minor": 4
}
