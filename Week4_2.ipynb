{
 "cells": [
  {
   "cell_type": "markdown",
   "metadata": {},
   "source": [
    "# ANALYSIS AND SELECTION OF A PLACE IN WHERE WE WANT TO ESTABLISH A VETERINARIAN CLINIC"
   ]
  },
  {
   "cell_type": "markdown",
   "metadata": {},
   "source": [
    "## Description of the problem"
   ]
  },
  {
   "cell_type": "markdown",
   "metadata": {},
   "source": [
    "Veterinarians in Mexico are having several problems to maintain their clinics open. The reasons are: First, the Government rules are imposed without any notice, and the inspectors are closing clinics based on rules the owners of the clinics weren't aware of. Secondly, Mexican economy is going down pretty fast, and it is worst now that COVID19 is enduring in the country, therefore, the clients are not attending to the clinics anymore. That is forcing the owners to close their clinics. And lastly: Crime is gaining force in Mexican streets. The clinics owners, clients and workers are in danger all the time.\n",
    "\n",
    "This proposal is the study we are offering to a group of veterinaries that want to establish a clinic in either New York City, USA or Toronto, Canada.\n",
    "\n",
    "Talking to the veterinarians group we defined the bases of the analysis:\n",
    "1. We focus only in two places of the interest of all the veterinarians in the group: New York City, New York, United States of America and Toronto, Ontario, Canada. We have to define the best place to locate the new clinic in one of the borroughs for one of the cities15 most Friendly Neighborhoods in Toronto 201.\n",
    "2. We are looking for a Pet friendly area, because the pet owners are more interested in the health of the pets and they will attend to the clinics more often.\n",
    "3. We will focus on dogs, because in New York City is known that 73% of the pets are dogs and 27% are cats, meanwhile in Toronto, the pets are 52% dogs and the cats are 48%.\n",
    "4. The clinic must be set in an area in where there are not many clinics, to avoid the competitors. We need to be careful to identify areas in where industrial parks are not located there, because those are areas in where there are not to many persons living there.\n",
    "5. We are looking for areas in where the amount of dogs is bigger.\n",
    "6. We also are looking for areas in where the amount of breeds in risk to be sick is big, therefore, they will require more medical attendance\n",
    "\n",
    "We performed a revision of information of both sites and we obtained enough information to support this study, that is reported in the next section."
   ]
  },
  {
   "cell_type": "markdown",
   "metadata": {},
   "source": [
    "## Data to be used in the project"
   ]
  },
  {
   "cell_type": "markdown",
   "metadata": {},
   "source": [
    "**Identification of the Pet Friendly Neighborhoods**(4, 5, 6, 7). It will help us to delimit some boroughs and neighborhoods to locate the possible areas where the veterinarians could establish their clinic, based on greater preferences of the clients to live in places where their pets are quite accepted."
   ]
  },
  {
   "cell_type": "code",
   "execution_count": 4,
   "metadata": {},
   "outputs": [],
   "source": [
    "import pandas as pd\n",
    "import numpy as np"
   ]
  },
  {
   "cell_type": "markdown",
   "metadata": {},
   "source": [
    "### Toronto Pet Friendly Neighborhoods\n",
    "Here there are the first 5 rows of the dataframe"
   ]
  },
  {
   "cell_type": "code",
   "execution_count": 13,
   "metadata": {},
   "outputs": [
    {
     "data": {
      "text/html": [
       "<div>\n",
       "<style scoped>\n",
       "    .dataframe tbody tr th:only-of-type {\n",
       "        vertical-align: middle;\n",
       "    }\n",
       "\n",
       "    .dataframe tbody tr th {\n",
       "        vertical-align: top;\n",
       "    }\n",
       "\n",
       "    .dataframe thead th {\n",
       "        text-align: right;\n",
       "    }\n",
       "</style>\n",
       "<table border=\"1\" class=\"dataframe\">\n",
       "  <thead>\n",
       "    <tr style=\"text-align: right;\">\n",
       "      <th></th>\n",
       "      <th>PostalCode</th>\n",
       "      <th>Borough</th>\n",
       "      <th>Neighborhood</th>\n",
       "    </tr>\n",
       "  </thead>\n",
       "  <tbody>\n",
       "    <tr>\n",
       "      <th>0</th>\n",
       "      <td>M4Y</td>\n",
       "      <td>Downtown Toronto</td>\n",
       "      <td>Church and Wellesley</td>\n",
       "    </tr>\n",
       "    <tr>\n",
       "      <th>1</th>\n",
       "      <td>M4K</td>\n",
       "      <td>East Toronto</td>\n",
       "      <td>Riverdale</td>\n",
       "    </tr>\n",
       "    <tr>\n",
       "      <th>2</th>\n",
       "      <td>M6P</td>\n",
       "      <td>West Toronto</td>\n",
       "      <td>High Park</td>\n",
       "    </tr>\n",
       "    <tr>\n",
       "      <th>3</th>\n",
       "      <td>M4E</td>\n",
       "      <td>East Toronto</td>\n",
       "      <td>The Beaches</td>\n",
       "    </tr>\n",
       "    <tr>\n",
       "      <th>4</th>\n",
       "      <td>M4Y</td>\n",
       "      <td>North Toronto</td>\n",
       "      <td>Mount Pleasant</td>\n",
       "    </tr>\n",
       "  </tbody>\n",
       "</table>\n",
       "</div>"
      ],
      "text/plain": [
       "  PostalCode           Borough          Neighborhood\n",
       "0        M4Y  Downtown Toronto  Church and Wellesley\n",
       "1        M4K      East Toronto             Riverdale\n",
       "2        M6P      West Toronto             High Park\n",
       "3        M4E      East Toronto           The Beaches\n",
       "4        M4Y     North Toronto        Mount Pleasant"
      ]
     },
     "execution_count": 13,
     "metadata": {},
     "output_type": "execute_result"
    }
   ],
   "source": [
    "path= \"Toronto_Best.csv\"\n",
    "Toronto_Best=pd.read_csv(path)\n",
    "Toronto_Best.head()"
   ]
  },
  {
   "cell_type": "markdown",
   "metadata": {},
   "source": [
    "### New York Pet Friendly Neighborhoods.\n",
    "Here there are the first 5 rows of the dataframe."
   ]
  },
  {
   "cell_type": "code",
   "execution_count": 12,
   "metadata": {},
   "outputs": [
    {
     "data": {
      "text/html": [
       "<div>\n",
       "<style scoped>\n",
       "    .dataframe tbody tr th:only-of-type {\n",
       "        vertical-align: middle;\n",
       "    }\n",
       "\n",
       "    .dataframe tbody tr th {\n",
       "        vertical-align: top;\n",
       "    }\n",
       "\n",
       "    .dataframe thead th {\n",
       "        text-align: right;\n",
       "    }\n",
       "</style>\n",
       "<table border=\"1\" class=\"dataframe\">\n",
       "  <thead>\n",
       "    <tr style=\"text-align: right;\">\n",
       "      <th></th>\n",
       "      <th>PostalCode</th>\n",
       "      <th>Borough</th>\n",
       "      <th>Neighborhood</th>\n",
       "    </tr>\n",
       "  </thead>\n",
       "  <tbody>\n",
       "    <tr>\n",
       "      <th>0</th>\n",
       "      <td>10280</td>\n",
       "      <td>Manhattan</td>\n",
       "      <td>Battery Park City</td>\n",
       "    </tr>\n",
       "    <tr>\n",
       "      <th>1</th>\n",
       "      <td>10007</td>\n",
       "      <td>Manhattan</td>\n",
       "      <td>Tribeca</td>\n",
       "    </tr>\n",
       "    <tr>\n",
       "      <th>2</th>\n",
       "      <td>10004</td>\n",
       "      <td>Manhattan</td>\n",
       "      <td>Financial District</td>\n",
       "    </tr>\n",
       "    <tr>\n",
       "      <th>3</th>\n",
       "      <td>10044</td>\n",
       "      <td>Manhattan</td>\n",
       "      <td>Roosevelt Island</td>\n",
       "    </tr>\n",
       "    <tr>\n",
       "      <th>4</th>\n",
       "      <td>10012</td>\n",
       "      <td>Manhattan</td>\n",
       "      <td>Soho</td>\n",
       "    </tr>\n",
       "  </tbody>\n",
       "</table>\n",
       "</div>"
      ],
      "text/plain": [
       "   PostalCode    Borough        Neighborhood\n",
       "0       10280  Manhattan   Battery Park City\n",
       "1       10007  Manhattan             Tribeca\n",
       "2       10004  Manhattan  Financial District\n",
       "3       10044  Manhattan    Roosevelt Island\n",
       "4       10012  Manhattan                Soho"
      ]
     },
     "execution_count": 12,
     "metadata": {},
     "output_type": "execute_result"
    }
   ],
   "source": [
    "path= \"New_York_Best.csv\"\n",
    "New_York_Best=pd.read_csv(path)\n",
    "New_York_Best.head()"
   ]
  },
  {
   "cell_type": "markdown",
   "metadata": {},
   "source": [
    "**Databases containing the distribution for dog breeds per postal code.** (8, 9) It will help us to identify the amount of dogs and the main breeds in the areas. That will help us to define the veterinarians demand in the neighbourhoods and boroughs because of number of pets as well as number of in risk to get sick pets. As the cats are not mirochiped, we don't have enough information to consider aboutcats. \n",
    "\n",
    "As cats are not microchipped in New York, we do not have enough information to compare the cats as well. On the other hand, the Canadian Animal Health Institute (1) reported that there were 8.2 million dogs and 8.3 million cats in Canada and Zeveloff (2) andMuscavage(3) reports 600,000 dogs and 500,000 cats in New York City. Therefore, we are going to focus on the dogs official registry databases. We are reporting only the first 5 rows of the dataframe of each table: \n",
    "- Toronto database: Toronto_dogs\n",
    "- New York City: NYC_dogs"
   ]
  },
  {
   "cell_type": "code",
   "execution_count": 11,
   "metadata": {},
   "outputs": [
    {
     "data": {
      "text/html": [
       "<div>\n",
       "<style scoped>\n",
       "    .dataframe tbody tr th:only-of-type {\n",
       "        vertical-align: middle;\n",
       "    }\n",
       "\n",
       "    .dataframe tbody tr th {\n",
       "        vertical-align: top;\n",
       "    }\n",
       "\n",
       "    .dataframe thead th {\n",
       "        text-align: right;\n",
       "    }\n",
       "</style>\n",
       "<table border=\"1\" class=\"dataframe\">\n",
       "  <thead>\n",
       "    <tr style=\"text-align: right;\">\n",
       "      <th></th>\n",
       "      <th>Postal Code Prefix</th>\n",
       "      <th>Breed of Dog</th>\n",
       "      <th>Animal Name</th>\n",
       "    </tr>\n",
       "  </thead>\n",
       "  <tbody>\n",
       "    <tr>\n",
       "      <th>0</th>\n",
       "      <td>M1P</td>\n",
       "      <td>TOY POODLE</td>\n",
       "      <td>123</td>\n",
       "    </tr>\n",
       "    <tr>\n",
       "      <th>1</th>\n",
       "      <td>M9A</td>\n",
       "      <td>SCHNAUZER STAND / POODLE MIN</td>\n",
       "      <td>210</td>\n",
       "    </tr>\n",
       "    <tr>\n",
       "      <th>2</th>\n",
       "      <td>M6M</td>\n",
       "      <td>GERM SHEPHERD</td>\n",
       "      <td>Mar-00</td>\n",
       "    </tr>\n",
       "    <tr>\n",
       "      <th>3</th>\n",
       "      <td>M1C</td>\n",
       "      <td>LABRADOR RETR</td>\n",
       "      <td>BLAZE</td>\n",
       "    </tr>\n",
       "    <tr>\n",
       "      <th>4</th>\n",
       "      <td>M1W</td>\n",
       "      <td>BEARDED COLLIE</td>\n",
       "      <td>BOUNCER</td>\n",
       "    </tr>\n",
       "  </tbody>\n",
       "</table>\n",
       "</div>"
      ],
      "text/plain": [
       "  Postal Code Prefix                  Breed of Dog Animal Name\n",
       "0                M1P                    TOY POODLE         123\n",
       "1                M9A  SCHNAUZER STAND / POODLE MIN         210\n",
       "2                M6M                 GERM SHEPHERD      Mar-00\n",
       "3                M1C                 LABRADOR RETR       BLAZE\n",
       "4                M1W                BEARDED COLLIE     BOUNCER"
      ]
     },
     "execution_count": 11,
     "metadata": {},
     "output_type": "execute_result"
    }
   ],
   "source": [
    "path= \"111116TO-dogs.csv\"\n",
    "Toronto_dogs=pd.read_csv(path)\n",
    "Toronto_dogs.head()"
   ]
  },
  {
   "cell_type": "code",
   "execution_count": 15,
   "metadata": {},
   "outputs": [
    {
     "data": {
      "text/html": [
       "<div>\n",
       "<style scoped>\n",
       "    .dataframe tbody tr th:only-of-type {\n",
       "        vertical-align: middle;\n",
       "    }\n",
       "\n",
       "    .dataframe tbody tr th {\n",
       "        vertical-align: top;\n",
       "    }\n",
       "\n",
       "    .dataframe thead th {\n",
       "        text-align: right;\n",
       "    }\n",
       "</style>\n",
       "<table border=\"1\" class=\"dataframe\">\n",
       "  <thead>\n",
       "    <tr style=\"text-align: right;\">\n",
       "      <th></th>\n",
       "      <th>Index</th>\n",
       "      <th>Dog_name</th>\n",
       "      <th>Dog_gender</th>\n",
       "      <th>Animal_birth</th>\n",
       "      <th>Breed</th>\n",
       "      <th>PostalCode</th>\n",
       "    </tr>\n",
       "  </thead>\n",
       "  <tbody>\n",
       "    <tr>\n",
       "      <th>0</th>\n",
       "      <td>1</td>\n",
       "      <td>PAIGE</td>\n",
       "      <td>F</td>\n",
       "      <td>2014</td>\n",
       "      <td>American Pit Bull Mix / Pit Bull Mix</td>\n",
       "      <td>10035</td>\n",
       "    </tr>\n",
       "    <tr>\n",
       "      <th>1</th>\n",
       "      <td>2</td>\n",
       "      <td>YOGI</td>\n",
       "      <td>M</td>\n",
       "      <td>2010</td>\n",
       "      <td>Boxer</td>\n",
       "      <td>10465</td>\n",
       "    </tr>\n",
       "    <tr>\n",
       "      <th>2</th>\n",
       "      <td>3</td>\n",
       "      <td>ALI</td>\n",
       "      <td>M</td>\n",
       "      <td>2014</td>\n",
       "      <td>Basenji</td>\n",
       "      <td>10013</td>\n",
       "    </tr>\n",
       "    <tr>\n",
       "      <th>3</th>\n",
       "      <td>4</td>\n",
       "      <td>QUEEN</td>\n",
       "      <td>F</td>\n",
       "      <td>2013</td>\n",
       "      <td>Akita Crossbreed</td>\n",
       "      <td>10013</td>\n",
       "    </tr>\n",
       "    <tr>\n",
       "      <th>4</th>\n",
       "      <td>5</td>\n",
       "      <td>LOLA</td>\n",
       "      <td>F</td>\n",
       "      <td>2009</td>\n",
       "      <td>Maltese</td>\n",
       "      <td>10028</td>\n",
       "    </tr>\n",
       "  </tbody>\n",
       "</table>\n",
       "</div>"
      ],
      "text/plain": [
       "  Index Dog_name Dog_gender  Animal_birth  \\\n",
       "0     1    PAIGE          F          2014   \n",
       "1     2     YOGI          M          2010   \n",
       "2     3      ALI          M          2014   \n",
       "3     4    QUEEN          F          2013   \n",
       "4     5     LOLA          F          2009   \n",
       "\n",
       "                                  Breed  PostalCode  \n",
       "0  American Pit Bull Mix / Pit Bull Mix       10035  \n",
       "1                                 Boxer       10465  \n",
       "2                               Basenji       10013  \n",
       "3                      Akita Crossbreed       10013  \n",
       "4                               Maltese       10028  "
      ]
     },
     "execution_count": 15,
     "metadata": {},
     "output_type": "execute_result"
    }
   ],
   "source": [
    "path= \"NYC_Dog_Licensing_Dataset_Clean.csv\"\n",
    "NYC_dogs=pd.read_csv(path)\n",
    "NYC_dogs.head()"
   ]
  },
  {
   "cell_type": "markdown",
   "metadata": {},
   "source": [
    "**Most Unhealthy dog breeds** According to Moore(10) the breeds more prone to be sick are: Chihuahua, Shar Pei, Saint Bernard, Rottweiler, Pug, Standard Poodle, Doberman Pinscher, German Shepherd, Labrador Retriever, Golden Retriever, Newfoulndland, English Bulldogs, Basset Hound, Irish Setter, Beagle, Siberian Husky, Shih Tzu, Boxer, Dachshund, Cocker Spaniel, Yorkshire Terrier, Miniature Schnauzer, Pomeranian, German Shorthand Pointer, Great Dane, Shetland Sheepdog, Maltese, Boston Terrier, Cavalier King Spaniel"
   ]
  },
  {
   "cell_type": "markdown",
   "metadata": {},
   "source": [
    "**API FOURSQUARE databases.**(11) To identify the veterinarian clinics in the area of Toronto and New York and remove those that contain a big amount of veterinarian clinics because they could be competitors.\n",
    "\n"
   ]
  },
  {
   "cell_type": "markdown",
   "metadata": {},
   "source": [
    "# References\n",
    "\n",
    "1. Canadian Animal Health Institute (2019). Latest  Canadian Pet Population Figures Released. Retrieved from https://www.cahi-icsa.ca/press-releases/latest-canadian-pet-population-figures-released at Aprin 22nd, 2020\n",
    "2. Zeveloff, J. (2012), Here's Where to Find The 600,000 Dogs That Live in New York City. Business Insider. Retrieved form https://www.businessinsider.com/heres-where-to-find-the-600000-dogs-that-live-in-new-york-city-2012-2?=MX&1R=T at April 22nd, 2020\n",
    "3. Muscavage, N. (2015). More NYers own dogs than cats. PressConnects. Retrieved from https://www.pressconnects.com/story/news/politics/2015/10/19/residents-dogs-cats/74213156 at April 22nd, 2020\n",
    "4. Krneta, A. (2018). 15 Most Dog Friendly Neighborhoods in Toronto 2019. TorontoRentals Blog. Neighborhoods. Retrieved from https://www.torontorentals.com/blog/most-dog-friendly-neighborhoods-in-toronto at April 21st, 2020\n",
    "5. NA. (2019). Best Dog-Friendly Neighbourhoods in Toronto. The BREL team. Retrieved from https://wwww.getwhatyouwant.ca/toronto-neighbourhoods-toronto at April 21st, 2020\n",
    "6. Roberts, C. (2017). NYC's Most-Dog_Freindly_Neighborhoods. Trends & Data. Neighborhood. Retrieved from https://streeteasy.com/blog/nycs-most-dog-friendly-neighborhoods at April 21st, 2020\n",
    "7. BrickUnderground. (2019). 8 of the best NYC neighborhoods for dogs. Retrieved from https://www.brickunderground.com/blog/2015/10/best_nyc_neighborhoods_for_dogs at April 21st, 2020 \n",
    "8. Global News (2011). Toronto dogs license database. Retrieved from https:// globalnews.ca/news/178486/toronto-dogs-download-the-data/ at April 22nd, 2020\n",
    "9. The City of New York. (2020). NYC Dog Licensing Dataset. NYC Open Data. Retrieved  from https://data.cityofnewyork.us/Health/NYC-Dog-Licensing_Dataset/nu7n-tupb at April 21sr, 2020\n",
    "10. Moore, C. (NA). 25 Most Unhealthy Dog Breeds. Retrieved from https://housely.com/unhealthy-dog-breeds at April 23rd, 2020\n",
    "11. FOURSQUARE. (2020). The Trusted location Data & Intelligence Company. Retrieved from https://foursquare.com"
   ]
  },
  {
   "cell_type": "code",
   "execution_count": null,
   "metadata": {},
   "outputs": [],
   "source": []
  }
 ],
 "metadata": {
  "kernelspec": {
   "display_name": "Python 3",
   "language": "python",
   "name": "python3"
  },
  "language_info": {
   "codemirror_mode": {
    "name": "ipython",
    "version": 3
   },
   "file_extension": ".py",
   "mimetype": "text/x-python",
   "name": "python",
   "nbconvert_exporter": "python",
   "pygments_lexer": "ipython3",
   "version": "3.7.6"
  }
 },
 "nbformat": 4,
 "nbformat_minor": 4
}
