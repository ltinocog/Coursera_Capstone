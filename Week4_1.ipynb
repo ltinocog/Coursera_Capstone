{
 "cells": [
  {
   "cell_type": "markdown",
   "metadata": {},
   "source": [
    "# ANALYSIS AND SELECTION OF A PLACE IN WHERE WE WANT TO ESTABLISH A VETERINARIAN CLINIC"
   ]
  },
  {
   "cell_type": "markdown",
   "metadata": {},
   "source": [
    "## Description of the problem"
   ]
  },
  {
   "cell_type": "markdown",
   "metadata": {},
   "source": [
    "Veterinarians in Mexico are having several problems to maintain their clinics open. The reasons are: First, the Government rules are imposed without any notice, and the inspectors are closing clinics based on rules the owners of the clinics weren't aware of. Secondly, Mexican economy is going down pretty fast, and it is worst now that COVID19 is enduring in the country, therefore, the clients are not attending to the clinics anymore. That is forcing the owners to close their clinics. And lastly: Crime is gaining force in Mexican streets. The clinics owners, clients and workers are in danger all the time.\n",
    "\n",
    "This proposal is the study we are offering to a group of veterinaries that want to establish a clinic in either New York City, USA or Toronto, Canada.\n",
    "\n",
    "Talking to the veterinarians group we defined the bases of the analysis:\n",
    "1. We focus only in two places of the interest of all the veterinarians in the group: New York City, New York, United States of America and Toronto, Ontario, Canada. We have to define the best place to locate the new clinic in one of the borroughs for one of the cities15 most Friendly Neighborhoods in Toronto 201.\n",
    "2. We are looking for a Pet friendly area, because the pet owners are more interested in the health of the pets and they will attend to the clinics more often.\n",
    "3. We will focus on dogs, because in New York City is known that 73% of the pets are dogs and 27% are cats, meanwhile in Toronto, the pets are 52% dogs and the cats are 48%.\n",
    "4. The clinic must be set in an area in where there are not many clinics, to avoid the competitors. We need to be careful to identify areas in where industrial parks are not located there, because those are areas in where there are not to many persons living there.\n",
    "5. We are looking for areas in where the amount of dogs is bigger.\n",
    "6. We also are looking for areas in where the amount of breeds in risk to be sick is big, therefore, they will require more medical attendance\n",
    "\n",
    "We performed a revision of information of both sites and we obtained enough information to support this study, that is reported in the next section."
   ]
  },
  {
   "cell_type": "code",
   "execution_count": null,
   "metadata": {},
   "outputs": [],
   "source": []
  }
 ],
 "metadata": {
  "kernelspec": {
   "display_name": "Python 3",
   "language": "python",
   "name": "python3"
  },
  "language_info": {
   "codemirror_mode": {
    "name": "ipython",
    "version": 3
   },
   "file_extension": ".py",
   "mimetype": "text/x-python",
   "name": "python",
   "nbconvert_exporter": "python",
   "pygments_lexer": "ipython3",
   "version": "3.7.6"
  }
 },
 "nbformat": 4,
 "nbformat_minor": 4
}
